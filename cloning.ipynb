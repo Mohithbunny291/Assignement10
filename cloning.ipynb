{
 "cells": [
  {
   "cell_type": "code",
   "execution_count": 4,
   "metadata": {},
   "outputs": [
    {
     "name": "stdout",
     "output_type": "stream",
     "text": [
      "original list: [4, 8, 2, 10, 15, 18]\n",
      "after cloning: [4, 8, 2, 10, 15, 18]\n"
     ]
    }
   ],
   "source": [
    "def cloning(li1):\n",
    "    \n",
    "    li_copy=li1[:]\n",
    "    \n",
    "    return li_copy\n",
    "\n",
    "li1=[4,8,2,10,15,18]\n",
    "\n",
    "li2=cloning(li1)\n",
    "\n",
    "print(\"original list:\",li1)\n",
    "\n",
    "print(\"after cloning:\",li2)\n"
   ]
  },
  {
   "cell_type": "code",
   "execution_count": null,
   "metadata": {},
   "outputs": [],
   "source": []
  }
 ],
 "metadata": {
  "kernelspec": {
   "display_name": "Python 3",
   "language": "python",
   "name": "python3"
  },
  "language_info": {
   "codemirror_mode": {
    "name": "ipython",
    "version": 3
   },
   "file_extension": ".py",
   "mimetype": "text/x-python",
   "name": "python",
   "nbconvert_exporter": "python",
   "pygments_lexer": "ipython3",
   "version": "3.8.2"
  }
 },
 "nbformat": 4,
 "nbformat_minor": 4
}
