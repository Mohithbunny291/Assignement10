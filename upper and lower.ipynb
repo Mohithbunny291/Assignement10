{
 "cells": [
  {
   "cell_type": "code",
   "execution_count": 7,
   "metadata": {},
   "outputs": [
    {
     "name": "stdout",
     "output_type": "stream",
     "text": [
      "(0, 37)\n"
     ]
    }
   ],
   "source": [
    "def up_low(string):\n",
    "    \n",
    "    uppers=0\n",
    "    \n",
    "    lowers=0\n",
    "    \n",
    "    for char in string:\n",
    "        \n",
    "        if char.islower():\n",
    "            \n",
    "            lowers+=1\n",
    "            \n",
    "        elif char.isupper():\n",
    "            \n",
    "            uppers+=1\n",
    "            \n",
    "        else:\n",
    "            \n",
    "            pass\n",
    "        \n",
    "    return(uppers,lowers)\n",
    "\n",
    "print(up_low(\"hello mr.rogers,how are you this fine tuesday?\"))\n"
   ]
  },
  {
   "cell_type": "code",
   "execution_count": null,
   "metadata": {},
   "outputs": [],
   "source": []
  }
 ],
 "metadata": {
  "kernelspec": {
   "display_name": "Python 3",
   "language": "python",
   "name": "python3"
  },
  "language_info": {
   "codemirror_mode": {
    "name": "ipython",
    "version": 3
   },
   "file_extension": ".py",
   "mimetype": "text/x-python",
   "name": "python",
   "nbconvert_exporter": "python",
   "pygments_lexer": "ipython3",
   "version": "3.8.2"
  }
 },
 "nbformat": 4,
 "nbformat_minor": 4
}
